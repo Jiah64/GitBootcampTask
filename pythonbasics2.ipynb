{
  "nbformat": 4,
  "nbformat_minor": 0,
  "metadata": {
    "colab": {
      "provenance": [],
      "authorship_tag": "ABX9TyPAgzoKYP30hwnUOQxig0kO",
      "include_colab_link": true
    },
    "kernelspec": {
      "name": "python3",
      "display_name": "Python 3"
    },
    "language_info": {
      "name": "python"
    }
  },
  "cells": [
    {
      "cell_type": "markdown",
      "metadata": {
        "id": "view-in-github",
        "colab_type": "text"
      },
      "source": [
        "<a href=\"https://colab.research.google.com/github/jiya42/GitBootcampTask/blob/master/pythonbasics2.ipynb\" target=\"_parent\"><img src=\"https://colab.research.google.com/assets/colab-badge.svg\" alt=\"Open In Colab\"/></a>"
      ]
    },
    {
      "cell_type": "markdown",
      "source": [
        ">python numbers `int` `float` `complex`\n"
      ],
      "metadata": {
        "id": "3lvXtf7uTUN5"
      }
    },
    {
      "cell_type": "code",
      "source": [],
      "metadata": {
        "id": "8raSP_6ikL4p"
      },
      "execution_count": null,
      "outputs": []
    },
    {
      "cell_type": "code",
      "source": [
        "a=2\n",
        "print(\"type a is \",type(a))\n",
        "b=2.0\n",
        "print(\"type b is \",type(b))\n",
        "c=8+1j\n",
        "print(\"type c is \",type(c))\n",
        "print(c, \"is complex number?\", isinstance(c,complex))\n",
        "print(a, \"is int number?\", isinstance(a,int))\n",
        "print(b, \"is float number?\", isinstance(b,float))\n"
      ],
      "metadata": {
        "colab": {
          "base_uri": "https://localhost:8080/"
        },
        "id": "TfaQ5NhzTaqE",
        "outputId": "032001a8-cd10-4192-ac40-59d97bbdc155"
      },
      "execution_count": null,
      "outputs": [
        {
          "output_type": "stream",
          "name": "stdout",
          "text": [
            "type a is  <class 'int'>\n",
            "type b is  <class 'float'>\n",
            "type c is  <class 'complex'>\n",
            "(8+1j) is complex number? True\n",
            "2 is int number? True\n",
            "2.0 is float number? True\n"
          ]
        }
      ]
    },
    {
      "cell_type": "markdown",
      "source": [
        ">python `list` `tuple dict set`"
      ],
      "metadata": {
        "id": "0ctX4ggzVU2R"
      }
    },
    {
      "cell_type": "code",
      "source": [
        "a=[2,3,4,5,6,7]\n",
        "print(a[2:])\n",
        "print(a[2])\n",
        "print(a[0:7:2])\n",
        "t=(1,\"hello\",2+1j)\n",
        "print(type(t))\n",
        "s={1,2,2,3,3,3}\n",
        "print(s)\n",
        "d={1:\"apple\",2:\"grapes\",3:\"avacado\"}\n",
        "print(d[1],d[3])\n",
        "print(d)\n",
        "d[3]=\"pengiun\"\n",
        "print(d)\n"
      ],
      "metadata": {
        "id": "jHGytL0UVZDp",
        "colab": {
          "base_uri": "https://localhost:8080/"
        },
        "outputId": "6fda695a-8b3e-4de6-f5eb-8d8071497a5a"
      },
      "execution_count": null,
      "outputs": [
        {
          "output_type": "stream",
          "name": "stdout",
          "text": [
            "[4, 5, 6, 7]\n",
            "4\n",
            "[2, 4, 6]\n",
            "<class 'tuple'>\n",
            "{1, 2, 3}\n",
            "apple avacado\n",
            "{1: 'apple', 2: 'grapes', 3: 'avacado'}\n",
            "{1: 'apple', 2: 'grapes', 3: 'pengiun'}\n"
          ]
        }
      ]
    },
    {
      "cell_type": "markdown",
      "source": [
        ">data conversions"
      ],
      "metadata": {
        "id": "L_C2WC9Vc7bP"
      }
    },
    {
      "cell_type": "code",
      "source": [
        "print(float(2))\n",
        "print(list(\"hello\"))\n",
        "print(tuple((1,2,3)))\n",
        "print(dict([(1,2),(4,5)]))"
      ],
      "metadata": {
        "colab": {
          "base_uri": "https://localhost:8080/"
        },
        "id": "ZmGdq_czdLD3",
        "outputId": "b2953295-cc69-4c0a-9d2a-f803e277b654"
      },
      "execution_count": null,
      "outputs": [
        {
          "output_type": "stream",
          "name": "stdout",
          "text": [
            "2.0\n",
            "['h', 'e', 'l', 'l', 'o']\n",
            "(1, 2, 3)\n",
            "{1: 2, 4: 5}\n"
          ]
        }
      ]
    },
    {
      "cell_type": "markdown",
      "source": [
        "python input output"
      ],
      "metadata": {
        "id": "RWiRMw_YfCUE"
      }
    },
    {
      "cell_type": "code",
      "source": [
        "print(1,2,3,4,5,sep=\"^\",end=\"*\")\n",
        "a,b=22,66\n",
        "print(\"\\nthe value of a {} and value of b {}\".format(a,b))\n",
        "print(\"the value of x is %d ad b is %d\"%(a,b))"
      ],
      "metadata": {
        "colab": {
          "base_uri": "https://localhost:8080/"
        },
        "id": "tHSdZHZefdNs",
        "outputId": "2ce4b858-f333-4256-c814-82a6c4bdf2d2"
      },
      "execution_count": null,
      "outputs": [
        {
          "output_type": "stream",
          "name": "stdout",
          "text": [
            "1^2^3^4^5*\n",
            "the value of a 22 and value of b 66\n",
            "the value of x is 22 ad b is 66\n"
          ]
        }
      ]
    },
    {
      "cell_type": "code",
      "source": [
        "import sys\n",
        "sys.path"
      ],
      "metadata": {
        "colab": {
          "base_uri": "https://localhost:8080/"
        },
        "id": "hkk1mjltjLeb",
        "outputId": "7f1dae6a-cd2c-4d15-ef13-ddcbe1be175f"
      },
      "execution_count": null,
      "outputs": [
        {
          "output_type": "execute_result",
          "data": {
            "text/plain": [
              "['/content',\n",
              " '/env/python',\n",
              " '/usr/lib/python310.zip',\n",
              " '/usr/lib/python3.10',\n",
              " '/usr/lib/python3.10/lib-dynload',\n",
              " '',\n",
              " '/usr/local/lib/python3.10/dist-packages',\n",
              " '/usr/lib/python3/dist-packages',\n",
              " '/usr/local/lib/python3.10/dist-packages/IPython/extensions',\n",
              " '/root/.ipython']"
            ]
          },
          "metadata": {},
          "execution_count": 23
        }
      ]
    },
    {
      "cell_type": "code",
      "source": [
        "a=6\n",
        "assert a<8,\"first condition\"\n",
        "assert a>8,\"secondcondition\""
      ],
      "metadata": {
        "colab": {
          "base_uri": "https://localhost:8080/",
          "height": 200
        },
        "id": "5P5o8zC8lgsK",
        "outputId": "53d7b070-275f-40b3-b911-34b61dc12734"
      },
      "execution_count": null,
      "outputs": [
        {
          "output_type": "error",
          "ename": "AssertionError",
          "evalue": "ignored",
          "traceback": [
            "\u001b[0;31m---------------------------------------------------------------------------\u001b[0m",
            "\u001b[0;31mAssertionError\u001b[0m                            Traceback (most recent call last)",
            "\u001b[0;32m<ipython-input-26-4acae2489802>\u001b[0m in \u001b[0;36m<cell line: 3>\u001b[0;34m()\u001b[0m\n\u001b[1;32m      1\u001b[0m \u001b[0ma\u001b[0m\u001b[0;34m=\u001b[0m\u001b[0;36m6\u001b[0m\u001b[0;34m\u001b[0m\u001b[0;34m\u001b[0m\u001b[0m\n\u001b[1;32m      2\u001b[0m \u001b[0;32massert\u001b[0m \u001b[0ma\u001b[0m\u001b[0;34m<\u001b[0m\u001b[0;36m8\u001b[0m\u001b[0;34m,\u001b[0m\u001b[0;34m\"first condition\"\u001b[0m\u001b[0;34m\u001b[0m\u001b[0;34m\u001b[0m\u001b[0m\n\u001b[0;32m----> 3\u001b[0;31m \u001b[0;32massert\u001b[0m \u001b[0ma\u001b[0m\u001b[0;34m>\u001b[0m\u001b[0;36m8\u001b[0m\u001b[0;34m,\u001b[0m\u001b[0;34m\"secondcondition\"\u001b[0m\u001b[0;34m\u001b[0m\u001b[0;34m\u001b[0m\u001b[0m\n\u001b[0m",
            "\u001b[0;31mAssertionError\u001b[0m: secondcondition"
          ]
        }
      ]
    },
    {
      "cell_type": "markdown",
      "source": [
        "is"
      ],
      "metadata": {
        "id": "1sZpWi84oyww"
      }
    },
    {
      "cell_type": "code",
      "source": [
        "print([] == [])\n",
        "print([] is [])\n",
        "print(() == ())\n",
        "() is () "
      ],
      "metadata": {
        "colab": {
          "base_uri": "https://localhost:8080/"
        },
        "id": "X54ie-bUzzKa",
        "outputId": "4fe556d7-6638-4f73-8cef-0519790be145"
      },
      "execution_count": null,
      "outputs": [
        {
          "output_type": "stream",
          "name": "stdout",
          "text": [
            "True\n",
            "False\n",
            "True\n"
          ]
        },
        {
          "output_type": "stream",
          "name": "stderr",
          "text": [
            "<>:4: SyntaxWarning: \"is\" with a literal. Did you mean \"==\"?\n",
            "<>:4: SyntaxWarning: \"is\" with a literal. Did you mean \"==\"?\n",
            "<ipython-input-31-2fa8f47e5927>:4: SyntaxWarning: \"is\" with a literal. Did you mean \"==\"?\n",
            "  () is ()\n"
          ]
        },
        {
          "output_type": "execute_result",
          "data": {
            "text/plain": [
              "True"
            ]
          },
          "metadata": {},
          "execution_count": 31
        }
      ]
    },
    {
      "cell_type": "code",
      "source": [
        "#lambda\n",
        "a=lambda x:x*2\n",
        "for i in range(6):\n",
        "  print(a(i))"
      ],
      "metadata": {
        "colab": {
          "base_uri": "https://localhost:8080/"
        },
        "id": "pVIAn7Gs1pPt",
        "outputId": "e39c3627-cdc4-41c3-87d5-047ad4f13a57"
      },
      "execution_count": null,
      "outputs": [
        {
          "output_type": "stream",
          "name": "stdout",
          "text": [
            "0\n",
            "2\n",
            "4\n",
            "6\n",
            "8\n",
            "10\n"
          ]
        }
      ]
    },
    {
      "cell_type": "code",
      "source": [
        "#yield\n",
        "def gen():\n",
        "  for i in range(6):\n",
        "    yield i*i\n",
        "g=gen()\n",
        "print(g)\n",
        "for i in g:\n",
        "  print(i)"
      ],
      "metadata": {
        "colab": {
          "base_uri": "https://localhost:8080/"
        },
        "id": "tAWXvvVl3LaP",
        "outputId": "b6397c66-89bf-4f2c-f7df-65d3118585ab"
      },
      "execution_count": null,
      "outputs": [
        {
          "output_type": "stream",
          "name": "stdout",
          "text": [
            "<generator object gen at 0x7fa94696d850>\n",
            "0\n",
            "1\n",
            "4\n",
            "9\n",
            "16\n",
            "25\n"
          ]
        }
      ]
    },
    {
      "cell_type": "code",
      "source": [
        "def outer_function():\n",
        "  a = 5\n",
        "  def inner_function():\n",
        "    nonlocal a # nonloacal keyword helps to modify the variables outside innerfunction but not gobally\n",
        "    a = 10\n",
        "    print(\"Inner function: \",a)\n",
        "  inner_function()\n",
        "  print(\"Outer function: \",a)\n",
        "outer_function()"
      ],
      "metadata": {
        "colab": {
          "base_uri": "https://localhost:8080/"
        },
        "id": "A8rmBW2P4Nt9",
        "outputId": "42f60821-e95a-4c8b-e9ff-7fb5153c5c9d"
      },
      "execution_count": null,
      "outputs": [
        {
          "output_type": "stream",
          "name": "stdout",
          "text": [
            "Inner function:  10\n",
            "Outer function:  10\n"
          ]
        }
      ]
    }
  ]
}